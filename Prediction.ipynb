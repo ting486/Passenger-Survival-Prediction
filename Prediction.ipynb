{
 "cells": [
  {
   "cell_type": "markdown",
   "id": "black-address",
   "metadata": {
    "papermill": {
     "duration": 0.023399,
     "end_time": "2022-09-26T21:43:17.339492",
     "exception": false,
     "start_time": "2022-09-26T21:43:17.316093",
     "status": "completed"
    },
    "tags": []
   },
   "source": [
    "# Initialization"
   ]
  },
  {
   "cell_type": "code",
   "execution_count": 1,
   "id": "eligible-knife",
   "metadata": {
    "_cell_guid": "b1076dfc-b9ad-4769-8c92-a6c4dae69d19",
    "_uuid": "8f2839f25d086af736a60e9eeb907d3b93b6e0e5",
    "execution": {
     "iopub.execute_input": "2022-09-26T21:43:17.389724Z",
     "iopub.status.busy": "2022-09-26T21:43:17.388511Z",
     "iopub.status.idle": "2022-09-26T21:43:18.203465Z",
     "shell.execute_reply": "2022-09-26T21:43:18.203962Z",
     "shell.execute_reply.started": "2021-06-06T19:50:28.661135Z"
    },
    "papermill": {
     "duration": 0.841203,
     "end_time": "2022-09-26T21:43:18.204272",
     "exception": false,
     "start_time": "2022-09-26T21:43:17.363069",
     "status": "completed"
    },
    "tags": []
   },
   "outputs": [
    {
     "name": "stdout",
     "output_type": "stream",
     "text": [
      "/kaggle/input/titanic/train.csv\n",
      "/kaggle/input/titanic/test.csv\n",
      "/kaggle/input/titanic/gender_submission.csv\n"
     ]
    }
   ],
   "source": [
    "import numpy as np \n",
    "import pandas as pd \n",
    "import matplotlib.pyplot as plt\n",
    "import seaborn as sns\n",
    "\n",
    "import os\n",
    "for dirname, _, filenames in os.walk('/kaggle/input'):\n",
    "    for filename in filenames:\n",
    "        print(os.path.join(dirname, filename))"
   ]
  },
  {
   "cell_type": "code",
   "execution_count": 2,
   "id": "bulgarian-cinema",
   "metadata": {
    "execution": {
     "iopub.execute_input": "2022-09-26T21:43:18.253619Z",
     "iopub.status.busy": "2022-09-26T21:43:18.252957Z",
     "iopub.status.idle": "2022-09-26T21:43:18.305694Z",
     "shell.execute_reply": "2022-09-26T21:43:18.306075Z",
     "shell.execute_reply.started": "2021-06-06T19:50:28.674430Z"
    },
    "papermill": {
     "duration": 0.078174,
     "end_time": "2022-09-26T21:43:18.306255",
     "exception": false,
     "start_time": "2022-09-26T21:43:18.228081",
     "status": "completed"
    },
    "tags": []
   },
   "outputs": [
    {
     "data": {
      "text/html": [
       "<div>\n",
       "<style scoped>\n",
       "    .dataframe tbody tr th:only-of-type {\n",
       "        vertical-align: middle;\n",
       "    }\n",
       "\n",
       "    .dataframe tbody tr th {\n",
       "        vertical-align: top;\n",
       "    }\n",
       "\n",
       "    .dataframe thead th {\n",
       "        text-align: right;\n",
       "    }\n",
       "</style>\n",
       "<table border=\"1\" class=\"dataframe\">\n",
       "  <thead>\n",
       "    <tr style=\"text-align: right;\">\n",
       "      <th></th>\n",
       "      <th>PassengerId</th>\n",
       "      <th>Survived</th>\n",
       "      <th>Pclass</th>\n",
       "      <th>Name</th>\n",
       "      <th>Sex</th>\n",
       "      <th>Age</th>\n",
       "      <th>SibSp</th>\n",
       "      <th>Parch</th>\n",
       "      <th>Ticket</th>\n",
       "      <th>Fare</th>\n",
       "      <th>Cabin</th>\n",
       "      <th>Embarked</th>\n",
       "    </tr>\n",
       "  </thead>\n",
       "  <tbody>\n",
       "    <tr>\n",
       "      <th>0</th>\n",
       "      <td>1</td>\n",
       "      <td>0</td>\n",
       "      <td>3</td>\n",
       "      <td>Braund, Mr. Owen Harris</td>\n",
       "      <td>male</td>\n",
       "      <td>22.0</td>\n",
       "      <td>1</td>\n",
       "      <td>0</td>\n",
       "      <td>A/5 21171</td>\n",
       "      <td>7.2500</td>\n",
       "      <td>NaN</td>\n",
       "      <td>S</td>\n",
       "    </tr>\n",
       "    <tr>\n",
       "      <th>1</th>\n",
       "      <td>2</td>\n",
       "      <td>1</td>\n",
       "      <td>1</td>\n",
       "      <td>Cumings, Mrs. John Bradley (Florence Briggs Th...</td>\n",
       "      <td>female</td>\n",
       "      <td>38.0</td>\n",
       "      <td>1</td>\n",
       "      <td>0</td>\n",
       "      <td>PC 17599</td>\n",
       "      <td>71.2833</td>\n",
       "      <td>C85</td>\n",
       "      <td>C</td>\n",
       "    </tr>\n",
       "    <tr>\n",
       "      <th>2</th>\n",
       "      <td>3</td>\n",
       "      <td>1</td>\n",
       "      <td>3</td>\n",
       "      <td>Heikkinen, Miss. Laina</td>\n",
       "      <td>female</td>\n",
       "      <td>26.0</td>\n",
       "      <td>0</td>\n",
       "      <td>0</td>\n",
       "      <td>STON/O2. 3101282</td>\n",
       "      <td>7.9250</td>\n",
       "      <td>NaN</td>\n",
       "      <td>S</td>\n",
       "    </tr>\n",
       "    <tr>\n",
       "      <th>3</th>\n",
       "      <td>4</td>\n",
       "      <td>1</td>\n",
       "      <td>1</td>\n",
       "      <td>Futrelle, Mrs. Jacques Heath (Lily May Peel)</td>\n",
       "      <td>female</td>\n",
       "      <td>35.0</td>\n",
       "      <td>1</td>\n",
       "      <td>0</td>\n",
       "      <td>113803</td>\n",
       "      <td>53.1000</td>\n",
       "      <td>C123</td>\n",
       "      <td>S</td>\n",
       "    </tr>\n",
       "    <tr>\n",
       "      <th>4</th>\n",
       "      <td>5</td>\n",
       "      <td>0</td>\n",
       "      <td>3</td>\n",
       "      <td>Allen, Mr. William Henry</td>\n",
       "      <td>male</td>\n",
       "      <td>35.0</td>\n",
       "      <td>0</td>\n",
       "      <td>0</td>\n",
       "      <td>373450</td>\n",
       "      <td>8.0500</td>\n",
       "      <td>NaN</td>\n",
       "      <td>S</td>\n",
       "    </tr>\n",
       "  </tbody>\n",
       "</table>\n",
       "</div>"
      ],
      "text/plain": [
       "   PassengerId  Survived  Pclass  \\\n",
       "0            1         0       3   \n",
       "1            2         1       1   \n",
       "2            3         1       3   \n",
       "3            4         1       1   \n",
       "4            5         0       3   \n",
       "\n",
       "                                                Name     Sex   Age  SibSp  \\\n",
       "0                            Braund, Mr. Owen Harris    male  22.0      1   \n",
       "1  Cumings, Mrs. John Bradley (Florence Briggs Th...  female  38.0      1   \n",
       "2                             Heikkinen, Miss. Laina  female  26.0      0   \n",
       "3       Futrelle, Mrs. Jacques Heath (Lily May Peel)  female  35.0      1   \n",
       "4                           Allen, Mr. William Henry    male  35.0      0   \n",
       "\n",
       "   Parch            Ticket     Fare Cabin Embarked  \n",
       "0      0         A/5 21171   7.2500   NaN        S  \n",
       "1      0          PC 17599  71.2833   C85        C  \n",
       "2      0  STON/O2. 3101282   7.9250   NaN        S  \n",
       "3      0            113803  53.1000  C123        S  \n",
       "4      0            373450   8.0500   NaN        S  "
      ]
     },
     "execution_count": 2,
     "metadata": {},
     "output_type": "execute_result"
    }
   ],
   "source": [
    "train = pd.read_csv('../input/titanic/train.csv')\n",
    "test = pd.read_csv('../input/titanic/test.csv')\n",
    "\n",
    "train.head()"
   ]
  },
  {
   "cell_type": "code",
   "execution_count": 3,
   "id": "charming-beauty",
   "metadata": {
    "execution": {
     "iopub.execute_input": "2022-09-26T21:43:18.363902Z",
     "iopub.status.busy": "2022-09-26T21:43:18.362717Z",
     "iopub.status.idle": "2022-09-26T21:43:18.375654Z",
     "shell.execute_reply": "2022-09-26T21:43:18.375041Z",
     "shell.execute_reply.started": "2021-06-06T19:50:28.723688Z"
    },
    "papermill": {
     "duration": 0.046019,
     "end_time": "2022-09-26T21:43:18.375765",
     "exception": false,
     "start_time": "2022-09-26T21:43:18.329746",
     "status": "completed"
    },
    "tags": []
   },
   "outputs": [
    {
     "name": "stdout",
     "output_type": "stream",
     "text": [
      "<class 'pandas.core.frame.DataFrame'>\n",
      "RangeIndex: 891 entries, 0 to 890\n",
      "Data columns (total 12 columns):\n",
      " #   Column       Non-Null Count  Dtype  \n",
      "---  ------       --------------  -----  \n",
      " 0   PassengerId  891 non-null    int64  \n",
      " 1   Survived     891 non-null    int64  \n",
      " 2   Pclass       891 non-null    int64  \n",
      " 3   Name         891 non-null    object \n",
      " 4   Sex          891 non-null    object \n",
      " 5   Age          714 non-null    float64\n",
      " 6   SibSp        891 non-null    int64  \n",
      " 7   Parch        891 non-null    int64  \n",
      " 8   Ticket       891 non-null    object \n",
      " 9   Fare         891 non-null    float64\n",
      " 10  Cabin        204 non-null    object \n",
      " 11  Embarked     889 non-null    object \n",
      "dtypes: float64(2), int64(5), object(5)\n",
      "memory usage: 83.7+ KB\n"
     ]
    }
   ],
   "source": [
    "train.info()"
   ]
  },
  {
   "cell_type": "markdown",
   "id": "returning-nevada",
   "metadata": {
    "papermill": {
     "duration": 0.022585,
     "end_time": "2022-09-26T21:43:18.421571",
     "exception": false,
     "start_time": "2022-09-26T21:43:18.398986",
     "status": "completed"
    },
    "tags": []
   },
   "source": [
    "# Data Modification"
   ]
  },
  {
   "cell_type": "code",
   "execution_count": 4,
   "id": "colonial-probe",
   "metadata": {
    "execution": {
     "iopub.execute_input": "2022-09-26T21:43:18.474696Z",
     "iopub.status.busy": "2022-09-26T21:43:18.473943Z",
     "iopub.status.idle": "2022-09-26T21:43:18.518729Z",
     "shell.execute_reply": "2022-09-26T21:43:18.519403Z",
     "shell.execute_reply.started": "2021-06-06T19:50:28.746975Z"
    },
    "papermill": {
     "duration": 0.075232,
     "end_time": "2022-09-26T21:43:18.519614",
     "exception": false,
     "start_time": "2022-09-26T21:43:18.444382",
     "status": "completed"
    },
    "tags": []
   },
   "outputs": [
    {
     "name": "stdout",
     "output_type": "stream",
     "text": [
      "<class 'pandas.core.frame.DataFrame'>\n",
      "RangeIndex: 891 entries, 0 to 890\n",
      "Data columns (total 15 columns):\n",
      " #   Column    Non-Null Count  Dtype  \n",
      "---  ------    --------------  -----  \n",
      " 0   Survived  891 non-null    int64  \n",
      " 1   Pclass    891 non-null    int64  \n",
      " 2   Name      891 non-null    object \n",
      " 3   Sex       891 non-null    int64  \n",
      " 4   Age       714 non-null    float64\n",
      " 5   SibSp     891 non-null    int64  \n",
      " 6   Parch     891 non-null    int64  \n",
      " 7   Ticket    891 non-null    object \n",
      " 8   Fare      891 non-null    float64\n",
      " 9   Cabin     204 non-null    object \n",
      " 10  Embarked  889 non-null    object \n",
      " 11  C         891 non-null    uint8  \n",
      " 12  Q         891 non-null    uint8  \n",
      " 13  S         891 non-null    uint8  \n",
      " 14  Family    891 non-null    int64  \n",
      "dtypes: float64(2), int64(6), object(4), uint8(3)\n",
      "memory usage: 86.3+ KB\n"
     ]
    }
   ],
   "source": [
    "# turn Sex into binary variable: Sex = 1 means male; Sex = 0 means female\n",
    "# turn Embarked into 3 binary variables using one-hot encoding: C/Q/S = 1 iff the passenger embarked on C/Q/S\n",
    "replace_list = {'Sex': {'male':1, 'female':0}}\n",
    "train = train.replace(replace_list)\n",
    "train = pd.concat((train,pd.get_dummies(train['Embarked'])),axis=1)\n",
    "train = train.drop(['PassengerId'],1)\n",
    "\n",
    "# add a column called Family which sums up the number of siblings, spouses, parents and children\n",
    "train['Family'] = train['SibSp'] + train['Parch']\n",
    "\n",
    "# extract every passenger's prefix (eg: Mr, Mrs, etc.)\n",
    "train['Name'] = train.Name.str.split(r'\\s*,\\s*|\\s*\\.\\s*').str[1]\n",
    "\n",
    "train.info()"
   ]
  },
  {
   "cell_type": "code",
   "execution_count": 5,
   "id": "cheap-description",
   "metadata": {
    "execution": {
     "iopub.execute_input": "2022-09-26T21:43:18.569546Z",
     "iopub.status.busy": "2022-09-26T21:43:18.568875Z",
     "iopub.status.idle": "2022-09-26T21:43:18.582914Z",
     "shell.execute_reply": "2022-09-26T21:43:18.583351Z",
     "shell.execute_reply.started": "2021-06-06T19:50:28.792489Z"
    },
    "papermill": {
     "duration": 0.040191,
     "end_time": "2022-09-26T21:43:18.583486",
     "exception": false,
     "start_time": "2022-09-26T21:43:18.543295",
     "status": "completed"
    },
    "tags": []
   },
   "outputs": [
    {
     "data": {
      "text/html": [
       "<div>\n",
       "<style scoped>\n",
       "    .dataframe tbody tr th:only-of-type {\n",
       "        vertical-align: middle;\n",
       "    }\n",
       "\n",
       "    .dataframe tbody tr th {\n",
       "        vertical-align: top;\n",
       "    }\n",
       "\n",
       "    .dataframe thead th {\n",
       "        text-align: right;\n",
       "    }\n",
       "</style>\n",
       "<table border=\"1\" class=\"dataframe\">\n",
       "  <thead>\n",
       "    <tr style=\"text-align: right;\">\n",
       "      <th></th>\n",
       "      <th>Survived</th>\n",
       "      <th>Pclass</th>\n",
       "      <th>Name</th>\n",
       "      <th>Sex</th>\n",
       "      <th>Age</th>\n",
       "      <th>SibSp</th>\n",
       "      <th>Parch</th>\n",
       "      <th>Ticket</th>\n",
       "      <th>Fare</th>\n",
       "      <th>Cabin</th>\n",
       "      <th>Embarked</th>\n",
       "      <th>C</th>\n",
       "      <th>Q</th>\n",
       "      <th>S</th>\n",
       "      <th>Family</th>\n",
       "    </tr>\n",
       "  </thead>\n",
       "  <tbody>\n",
       "    <tr>\n",
       "      <th>0</th>\n",
       "      <td>0</td>\n",
       "      <td>3</td>\n",
       "      <td>Mr</td>\n",
       "      <td>1</td>\n",
       "      <td>22.0</td>\n",
       "      <td>1</td>\n",
       "      <td>0</td>\n",
       "      <td>A/5 21171</td>\n",
       "      <td>7.2500</td>\n",
       "      <td>NaN</td>\n",
       "      <td>S</td>\n",
       "      <td>0</td>\n",
       "      <td>0</td>\n",
       "      <td>1</td>\n",
       "      <td>1</td>\n",
       "    </tr>\n",
       "    <tr>\n",
       "      <th>1</th>\n",
       "      <td>1</td>\n",
       "      <td>1</td>\n",
       "      <td>Mrs</td>\n",
       "      <td>0</td>\n",
       "      <td>38.0</td>\n",
       "      <td>1</td>\n",
       "      <td>0</td>\n",
       "      <td>PC 17599</td>\n",
       "      <td>71.2833</td>\n",
       "      <td>C85</td>\n",
       "      <td>C</td>\n",
       "      <td>1</td>\n",
       "      <td>0</td>\n",
       "      <td>0</td>\n",
       "      <td>1</td>\n",
       "    </tr>\n",
       "    <tr>\n",
       "      <th>2</th>\n",
       "      <td>1</td>\n",
       "      <td>3</td>\n",
       "      <td>Miss</td>\n",
       "      <td>0</td>\n",
       "      <td>26.0</td>\n",
       "      <td>0</td>\n",
       "      <td>0</td>\n",
       "      <td>STON/O2. 3101282</td>\n",
       "      <td>7.9250</td>\n",
       "      <td>NaN</td>\n",
       "      <td>S</td>\n",
       "      <td>0</td>\n",
       "      <td>0</td>\n",
       "      <td>1</td>\n",
       "      <td>0</td>\n",
       "    </tr>\n",
       "    <tr>\n",
       "      <th>3</th>\n",
       "      <td>1</td>\n",
       "      <td>1</td>\n",
       "      <td>Mrs</td>\n",
       "      <td>0</td>\n",
       "      <td>35.0</td>\n",
       "      <td>1</td>\n",
       "      <td>0</td>\n",
       "      <td>113803</td>\n",
       "      <td>53.1000</td>\n",
       "      <td>C123</td>\n",
       "      <td>S</td>\n",
       "      <td>0</td>\n",
       "      <td>0</td>\n",
       "      <td>1</td>\n",
       "      <td>1</td>\n",
       "    </tr>\n",
       "    <tr>\n",
       "      <th>4</th>\n",
       "      <td>0</td>\n",
       "      <td>3</td>\n",
       "      <td>Mr</td>\n",
       "      <td>1</td>\n",
       "      <td>35.0</td>\n",
       "      <td>0</td>\n",
       "      <td>0</td>\n",
       "      <td>373450</td>\n",
       "      <td>8.0500</td>\n",
       "      <td>NaN</td>\n",
       "      <td>S</td>\n",
       "      <td>0</td>\n",
       "      <td>0</td>\n",
       "      <td>1</td>\n",
       "      <td>0</td>\n",
       "    </tr>\n",
       "  </tbody>\n",
       "</table>\n",
       "</div>"
      ],
      "text/plain": [
       "   Survived  Pclass  Name  Sex   Age  SibSp  Parch            Ticket     Fare  \\\n",
       "0         0       3    Mr    1  22.0      1      0         A/5 21171   7.2500   \n",
       "1         1       1   Mrs    0  38.0      1      0          PC 17599  71.2833   \n",
       "2         1       3  Miss    0  26.0      0      0  STON/O2. 3101282   7.9250   \n",
       "3         1       1   Mrs    0  35.0      1      0            113803  53.1000   \n",
       "4         0       3    Mr    1  35.0      0      0            373450   8.0500   \n",
       "\n",
       "  Cabin Embarked  C  Q  S  Family  \n",
       "0   NaN        S  0  0  1       1  \n",
       "1   C85        C  1  0  0       1  \n",
       "2   NaN        S  0  0  1       0  \n",
       "3  C123        S  0  0  1       1  \n",
       "4   NaN        S  0  0  1       0  "
      ]
     },
     "execution_count": 5,
     "metadata": {},
     "output_type": "execute_result"
    }
   ],
   "source": [
    "train.head()"
   ]
  },
  {
   "cell_type": "code",
   "execution_count": 6,
   "id": "enabling-cliff",
   "metadata": {
    "execution": {
     "iopub.execute_input": "2022-09-26T21:43:18.634681Z",
     "iopub.status.busy": "2022-09-26T21:43:18.633965Z",
     "iopub.status.idle": "2022-09-26T21:43:18.649097Z",
     "shell.execute_reply": "2022-09-26T21:43:18.649659Z",
     "shell.execute_reply.started": "2021-06-06T19:50:28.817736Z"
    },
    "papermill": {
     "duration": 0.042594,
     "end_time": "2022-09-26T21:43:18.649948",
     "exception": false,
     "start_time": "2022-09-26T21:43:18.607354",
     "status": "completed"
    },
    "tags": []
   },
   "outputs": [
    {
     "name": "stdout",
     "output_type": "stream",
     "text": [
      "<class 'pandas.core.frame.DataFrame'>\n",
      "RangeIndex: 891 entries, 0 to 890\n",
      "Data columns (total 11 columns):\n",
      " #   Column    Non-Null Count  Dtype  \n",
      "---  ------    --------------  -----  \n",
      " 0   Survived  891 non-null    int64  \n",
      " 1   Pclass    891 non-null    int64  \n",
      " 2   Sex       891 non-null    int64  \n",
      " 3   Age       714 non-null    float64\n",
      " 4   SibSp     891 non-null    int64  \n",
      " 5   Parch     891 non-null    int64  \n",
      " 6   Fare      891 non-null    float64\n",
      " 7   C         891 non-null    uint8  \n",
      " 8   Q         891 non-null    uint8  \n",
      " 9   S         891 non-null    uint8  \n",
      " 10  Family    891 non-null    int64  \n",
      "dtypes: float64(2), int64(6), uint8(3)\n",
      "memory usage: 58.4 KB\n"
     ]
    }
   ],
   "source": [
    "# remove dtype = 'object' columns and use the rest of the info to plot correlation heatmap\n",
    "train_no_obj = train.select_dtypes(exclude=['object'])\n",
    "train_no_obj.info()"
   ]
  },
  {
   "cell_type": "markdown",
   "id": "national-report",
   "metadata": {
    "papermill": {
     "duration": 0.024073,
     "end_time": "2022-09-26T21:43:18.701511",
     "exception": false,
     "start_time": "2022-09-26T21:43:18.677438",
     "status": "completed"
    },
    "tags": []
   },
   "source": [
    "# Data Visualization and Analysis"
   ]
  },
  {
   "cell_type": "code",
   "execution_count": 7,
   "id": "proprietary-spokesman",
   "metadata": {
    "execution": {
     "iopub.execute_input": "2022-09-26T21:43:18.753744Z",
     "iopub.status.busy": "2022-09-26T21:43:18.753275Z",
     "iopub.status.idle": "2022-09-26T21:43:19.425285Z",
     "shell.execute_reply": "2022-09-26T21:43:19.425893Z",
     "shell.execute_reply.started": "2021-06-06T19:50:28.842743Z"
    },
    "papermill": {
     "duration": 0.700971,
     "end_time": "2022-09-26T21:43:19.426259",
     "exception": false,
     "start_time": "2022-09-26T21:43:18.725288",
     "status": "completed"
    },
    "tags": []
   },
   "outputs": [
    {
     "data": {
      "text/plain": [
       "<AxesSubplot:>"
      ]
     },
     "execution_count": 7,
     "metadata": {},
     "output_type": "execute_result"
    },
    {
     "data": {
      "image/png": "[encoded data removed]",
      "text/plain": [
       "<Figure size 432x288 with 2 Axes>"
      ]
     },
     "metadata": {
      "needs_background": "light"
     },
     "output_type": "display_data"
    }
   ],
   "source": [
    "corr = train_no_obj.corr()\n",
    "sns.heatmap(corr, annot=True)\n",
    "# keeping all other variables constant, survival rate is highly correlated with sex"
   ]
  },
  {
   "cell_type": "code",
   "execution_count": 8,
   "id": "electoral-planning",
   "metadata": {
    "execution": {
     "iopub.execute_input": "2022-09-26T21:43:19.501291Z",
     "iopub.status.busy": "2022-09-26T21:43:19.500431Z",
     "iopub.status.idle": "2022-09-26T21:43:19.605750Z",
     "shell.execute_reply": "2022-09-26T21:43:19.605307Z",
     "shell.execute_reply.started": "2021-06-06T19:50:29.610696Z"
    },
    "papermill": {
     "duration": 0.140532,
     "end_time": "2022-09-26T21:43:19.605876",
     "exception": false,
     "start_time": "2022-09-26T21:43:19.465344",
     "status": "completed"
    },
    "tags": []
   },
   "outputs": [
    {
     "data": {
      "text/plain": [
       "<AxesSubplot:xlabel='Survived', ylabel='count'>"
      ]
     },
     "execution_count": 8,
     "metadata": {},
     "output_type": "execute_result"
    },
    {
     "data": {
      "image/png": "[encoded data removed]",
      "text/plain": [
       "<Figure size 432x288 with 1 Axes>"
      ]
     },
     "metadata": {
      "needs_background": "light"
     },
     "output_type": "display_data"
    }
   ],
   "source": [
    "sns.countplot(x='Survived',hue='Sex',data = train)\n",
    "# males are more likely to survive than females (i.e.: Pr(Survival=1|Sex=1) > Pr(Survival=1|Sex=0))"
   ]
  },
  {
   "cell_type": "code",
   "execution_count": 9,
   "id": "encouraging-camera",
   "metadata": {
    "execution": {
     "iopub.execute_input": "2022-09-26T21:43:19.666066Z",
     "iopub.status.busy": "2022-09-26T21:43:19.665241Z",
     "iopub.status.idle": "2022-09-26T21:43:19.798780Z",
     "shell.execute_reply": "2022-09-26T21:43:19.799651Z",
     "shell.execute_reply.started": "2021-06-06T19:50:29.753664Z"
    },
    "papermill": {
     "duration": 0.166134,
     "end_time": "2022-09-26T21:43:19.799917",
     "exception": false,
     "start_time": "2022-09-26T21:43:19.633783",
     "status": "completed"
    },
    "tags": []
   },
   "outputs": [
    {
     "data": {
      "text/plain": [
       "<AxesSubplot:xlabel='Survived', ylabel='count'>"
      ]
     },
     "execution_count": 9,
     "metadata": {},
     "output_type": "execute_result"
    },
    {
     "data": {
      "image/png": "[encoded data removed]",
      "text/plain": [
       "<Figure size 432x288 with 1 Axes>"
      ]
     },
     "metadata": {
      "needs_background": "light"
     },
     "output_type": "display_data"
    }
   ],
   "source": [
    "sns.countplot(x='Survived', hue='Embarked', data = train)"
   ]
  },
  {
   "cell_type": "code",
   "execution_count": 10,
   "id": "apparent-manhattan",
   "metadata": {
    "execution": {
     "iopub.execute_input": "2022-09-26T21:43:19.860657Z",
     "iopub.status.busy": "2022-09-26T21:43:19.860085Z",
     "iopub.status.idle": "2022-09-26T21:43:20.100020Z",
     "shell.execute_reply": "2022-09-26T21:43:20.099541Z",
     "shell.execute_reply.started": "2021-06-06T19:50:29.919801Z"
    },
    "papermill": {
     "duration": 0.27078,
     "end_time": "2022-09-26T21:43:20.100159",
     "exception": false,
     "start_time": "2022-09-26T21:43:19.829379",
     "status": "completed"
    },
    "tags": []
   },
   "outputs": [
    {
     "data": {
      "text/plain": [
       "<AxesSubplot:xlabel='Survived', ylabel='count'>"
      ]
     },
     "execution_count": 10,
     "metadata": {},
     "output_type": "execute_result"
    },
    {
     "data": {
      "image/png": "[encoded data removed]",
      "text/plain": [
       "<Figure size 432x288 with 1 Axes>"
      ]
     },
     "metadata": {
      "needs_background": "light"
     },
     "output_type": "display_data"
    }
   ],
   "source": [
    "sns.countplot(x='Survived',hue='Pclass',data = train)\n",
    "# 1st class people are most likely to survive, followed by 2nd class people. \n",
    "# Only about 1/4 of 3rd class people get to survive."
   ]
  },
  {
   "cell_type": "code",
   "execution_count": 11,
   "id": "suspended-carry",
   "metadata": {
    "execution": {
     "iopub.execute_input": "2022-09-26T21:43:20.167046Z",
     "iopub.status.busy": "2022-09-26T21:43:20.166525Z",
     "iopub.status.idle": "2022-09-26T21:43:20.282399Z",
     "shell.execute_reply": "2022-09-26T21:43:20.281868Z",
     "shell.execute_reply.started": "2021-06-06T19:50:30.079574Z"
    },
    "papermill": {
     "duration": 0.151437,
     "end_time": "2022-09-26T21:43:20.282526",
     "exception": false,
     "start_time": "2022-09-26T21:43:20.131089",
     "status": "completed"
    },
    "tags": []
   },
   "outputs": [
    {
     "data": {
      "text/plain": [
       "<AxesSubplot:xlabel='Survived', ylabel='Fare'>"
      ]
     },
     "execution_count": 11,
     "metadata": {},
     "output_type": "execute_result"
    },
    {
     "data": {
      "image/png": "[encoded data removed]",
      "text/plain": [
       "<Figure size 432x288 with 1 Axes>"
      ]
     },
     "metadata": {
      "needs_background": "light"
     },
     "output_type": "display_data"
    }
   ],
   "source": [
    "sns.boxplot(x='Survived', y='Fare', data = train)\n",
    "# those who purchase more expensive fares are more likely to survive"
   ]
  },
  {
   "cell_type": "code",
   "execution_count": 12,
   "id": "worse-hayes",
   "metadata": {
    "execution": {
     "iopub.execute_input": "2022-09-26T21:43:20.348614Z",
     "iopub.status.busy": "2022-09-26T21:43:20.348037Z",
     "iopub.status.idle": "2022-09-26T21:43:20.470660Z",
     "shell.execute_reply": "2022-09-26T21:43:20.470068Z",
     "shell.execute_reply.started": "2021-06-06T19:50:30.216598Z"
    },
    "papermill": {
     "duration": 0.156441,
     "end_time": "2022-09-26T21:43:20.470778",
     "exception": false,
     "start_time": "2022-09-26T21:43:20.314337",
     "status": "completed"
    },
    "tags": []
   },
   "outputs": [
    {
     "data": {
      "text/plain": [
       "<AxesSubplot:xlabel='Survived', ylabel='Age'>"
      ]
     },
     "execution_count": 12,
     "metadata": {},
     "output_type": "execute_result"
    },
    {
     "data": {
      "image/png": "[encoded data removed]",
      "text/plain": [
       "<Figure size 432x288 with 1 Axes>"
      ]
     },
     "metadata": {
      "needs_background": "light"
     },
     "output_type": "display_data"
    }
   ],
   "source": [
    "sns.boxplot(x='Survived', y='Age', data = train)\n",
    "# one's survival rate is not much influenced by his/her age"
   ]
  },
  {
   "cell_type": "code",
   "execution_count": 13,
   "id": "velvet-narrow",
   "metadata": {
    "execution": {
     "iopub.execute_input": "2022-09-26T21:43:20.540300Z",
     "iopub.status.busy": "2022-09-26T21:43:20.539691Z",
     "iopub.status.idle": "2022-09-26T21:43:20.731321Z",
     "shell.execute_reply": "2022-09-26T21:43:20.730746Z",
     "shell.execute_reply.started": "2021-06-06T19:50:30.365197Z"
    },
    "papermill": {
     "duration": 0.228126,
     "end_time": "2022-09-26T21:43:20.731444",
     "exception": false,
     "start_time": "2022-09-26T21:43:20.503318",
     "status": "completed"
    },
    "tags": []
   },
   "outputs": [
    {
     "data": {
      "text/plain": [
       "<AxesSubplot:xlabel='Survived', ylabel='count'>"
      ]
     },
     "execution_count": 13,
     "metadata": {},
     "output_type": "execute_result"
    },
    {
     "data": {
      "image/png": "[encoded data removed]",
      "text/plain": [
       "<Figure size 432x288 with 1 Axes>"
      ]
     },
     "metadata": {
      "needs_background": "light"
     },
     "output_type": "display_data"
    }
   ],
   "source": [
    "sns.countplot(x='Survived',hue='Family',data = train)\n",
    "# those who has 1 to 3 family members are more likely to survive than people with 0 or >4 family members"
   ]
  },
  {
   "cell_type": "code",
   "execution_count": 14,
   "id": "closing-framing",
   "metadata": {
    "execution": {
     "iopub.execute_input": "2022-09-26T21:43:20.802624Z",
     "iopub.status.busy": "2022-09-26T21:43:20.802088Z",
     "iopub.status.idle": "2022-09-26T21:43:20.805712Z",
     "shell.execute_reply": "2022-09-26T21:43:20.806151Z",
     "shell.execute_reply.started": "2021-06-06T19:50:30.600090Z"
    },
    "papermill": {
     "duration": 0.042017,
     "end_time": "2022-09-26T21:43:20.806297",
     "exception": false,
     "start_time": "2022-09-26T21:43:20.764280",
     "status": "completed"
    },
    "tags": []
   },
   "outputs": [
    {
     "data": {
      "text/plain": [
       "Mr              517\n",
       "Miss            182\n",
       "Mrs             125\n",
       "Master           40\n",
       "Dr                7\n",
       "Rev               6\n",
       "Mlle              2\n",
       "Major             2\n",
       "Col               2\n",
       "Ms                1\n",
       "Capt              1\n",
       "Lady              1\n",
       "Sir               1\n",
       "Don               1\n",
       "Jonkheer          1\n",
       "Mme               1\n",
       "the Countess      1\n",
       "Name: Name, dtype: int64"
      ]
     },
     "execution_count": 14,
     "metadata": {},
     "output_type": "execute_result"
    }
   ],
   "source": [
    "train['Name'].value_counts()"
   ]
  },
  {
   "cell_type": "code",
   "execution_count": 15,
   "id": "adjusted-domestic",
   "metadata": {
    "execution": {
     "iopub.execute_input": "2022-09-26T21:43:20.876184Z",
     "iopub.status.busy": "2022-09-26T21:43:20.875622Z",
     "iopub.status.idle": "2022-09-26T21:43:20.883315Z",
     "shell.execute_reply": "2022-09-26T21:43:20.882762Z",
     "shell.execute_reply.started": "2021-06-06T19:50:30.610556Z"
    },
    "papermill": {
     "duration": 0.042893,
     "end_time": "2022-09-26T21:43:20.883428",
     "exception": false,
     "start_time": "2022-09-26T21:43:20.840535",
     "status": "completed"
    },
    "tags": []
   },
   "outputs": [],
   "source": [
    "title_replace = {'Name': {'Mlle': 'Others',\n",
    "                         'Col':'Others',\n",
    "                         'Major': 'Others',\n",
    "                         'Sir': 'Others',\n",
    "                         'Don': 'Others',\n",
    "                         'the Countess': 'Others',\n",
    "                         'Mme': 'Others',\n",
    "                         'Capt': 'Others',\n",
    "                         'Ms': 'Others',\n",
    "                         'Jonkheer': 'Others',\n",
    "                         'Lady': 'Others',}}\n",
    "train = train.replace(title_replace)"
   ]
  },
  {
   "cell_type": "code",
   "execution_count": 16,
   "id": "crucial-satisfaction",
   "metadata": {
    "execution": {
     "iopub.execute_input": "2022-09-26T21:43:20.954047Z",
     "iopub.status.busy": "2022-09-26T21:43:20.953077Z",
     "iopub.status.idle": "2022-09-26T21:43:20.959613Z",
     "shell.execute_reply": "2022-09-26T21:43:20.960005Z",
     "shell.execute_reply.started": "2021-06-06T19:50:30.625341Z"
    },
    "papermill": {
     "duration": 0.042348,
     "end_time": "2022-09-26T21:43:20.960172",
     "exception": false,
     "start_time": "2022-09-26T21:43:20.917824",
     "status": "completed"
    },
    "tags": []
   },
   "outputs": [
    {
     "data": {
      "text/plain": [
       "Mr        517\n",
       "Miss      182\n",
       "Mrs       125\n",
       "Master     40\n",
       "Others     14\n",
       "Dr          7\n",
       "Rev         6\n",
       "Name: Name, dtype: int64"
      ]
     },
     "execution_count": 16,
     "metadata": {},
     "output_type": "execute_result"
    }
   ],
   "source": [
    "train['Name'].value_counts()"
   ]
  },
  {
   "cell_type": "code",
   "execution_count": 17,
   "id": "angry-difficulty",
   "metadata": {
    "execution": {
     "iopub.execute_input": "2022-09-26T21:43:21.030334Z",
     "iopub.status.busy": "2022-09-26T21:43:21.029712Z",
     "iopub.status.idle": "2022-09-26T21:43:21.198418Z",
     "shell.execute_reply": "2022-09-26T21:43:21.197914Z",
     "shell.execute_reply.started": "2021-06-06T19:50:30.639680Z"
    },
    "papermill": {
     "duration": 0.205703,
     "end_time": "2022-09-26T21:43:21.198532",
     "exception": false,
     "start_time": "2022-09-26T21:43:20.992829",
     "status": "completed"
    },
    "tags": []
   },
   "outputs": [
    {
     "data": {
      "text/plain": [
       "<AxesSubplot:xlabel='Survived', ylabel='count'>"
      ]
     },
     "execution_count": 17,
     "metadata": {},
     "output_type": "execute_result"
    },
    {
     "data": {
      "image/png": "[encoded data removed]",
      "text/plain": [
       "<Figure size 432x288 with 1 Axes>"
      ]
     },
     "metadata": {
      "needs_background": "light"
     },
     "output_type": "display_data"
    }
   ],
   "source": [
    "sns.countplot(x='Survived',hue='Name',data = train)\n",
    "# people with titles 'Mrs' or 'Miss' are more likely to survive"
   ]
  },
  {
   "cell_type": "code",
   "execution_count": 18,
   "id": "wanted-cherry",
   "metadata": {
    "execution": {
     "iopub.execute_input": "2022-09-26T21:43:21.266756Z",
     "iopub.status.busy": "2022-09-26T21:43:21.266278Z",
     "iopub.status.idle": "2022-09-26T21:43:21.282291Z",
     "shell.execute_reply": "2022-09-26T21:43:21.281790Z",
     "shell.execute_reply.started": "2021-06-06T19:50:30.843515Z"
    },
    "papermill": {
     "duration": 0.05126,
     "end_time": "2022-09-26T21:43:21.282399",
     "exception": false,
     "start_time": "2022-09-26T21:43:21.231139",
     "status": "completed"
    },
    "tags": []
   },
   "outputs": [
    {
     "data": {
      "text/html": [
       "<div>\n",
       "<style scoped>\n",
       "    .dataframe tbody tr th:only-of-type {\n",
       "        vertical-align: middle;\n",
       "    }\n",
       "\n",
       "    .dataframe tbody tr th {\n",
       "        vertical-align: top;\n",
       "    }\n",
       "\n",
       "    .dataframe thead th {\n",
       "        text-align: right;\n",
       "    }\n",
       "</style>\n",
       "<table border=\"1\" class=\"dataframe\">\n",
       "  <thead>\n",
       "    <tr style=\"text-align: right;\">\n",
       "      <th></th>\n",
       "      <th>Survived</th>\n",
       "      <th>Pclass</th>\n",
       "      <th>Name</th>\n",
       "      <th>Sex</th>\n",
       "      <th>Age</th>\n",
       "      <th>SibSp</th>\n",
       "      <th>Parch</th>\n",
       "      <th>Ticket</th>\n",
       "      <th>Fare</th>\n",
       "      <th>Cabin</th>\n",
       "      <th>Embarked</th>\n",
       "      <th>C</th>\n",
       "      <th>Q</th>\n",
       "      <th>S</th>\n",
       "      <th>Family</th>\n",
       "    </tr>\n",
       "  </thead>\n",
       "  <tbody>\n",
       "    <tr>\n",
       "      <th>0</th>\n",
       "      <td>0</td>\n",
       "      <td>3</td>\n",
       "      <td>Mr</td>\n",
       "      <td>1</td>\n",
       "      <td>22.0</td>\n",
       "      <td>1</td>\n",
       "      <td>0</td>\n",
       "      <td>A/5 21171</td>\n",
       "      <td>7.2500</td>\n",
       "      <td>0</td>\n",
       "      <td>S</td>\n",
       "      <td>0</td>\n",
       "      <td>0</td>\n",
       "      <td>1</td>\n",
       "      <td>1</td>\n",
       "    </tr>\n",
       "    <tr>\n",
       "      <th>1</th>\n",
       "      <td>1</td>\n",
       "      <td>1</td>\n",
       "      <td>Mrs</td>\n",
       "      <td>0</td>\n",
       "      <td>38.0</td>\n",
       "      <td>1</td>\n",
       "      <td>0</td>\n",
       "      <td>PC 17599</td>\n",
       "      <td>71.2833</td>\n",
       "      <td>1</td>\n",
       "      <td>C</td>\n",
       "      <td>1</td>\n",
       "      <td>0</td>\n",
       "      <td>0</td>\n",
       "      <td>1</td>\n",
       "    </tr>\n",
       "    <tr>\n",
       "      <th>2</th>\n",
       "      <td>1</td>\n",
       "      <td>3</td>\n",
       "      <td>Miss</td>\n",
       "      <td>0</td>\n",
       "      <td>26.0</td>\n",
       "      <td>0</td>\n",
       "      <td>0</td>\n",
       "      <td>STON/O2. 3101282</td>\n",
       "      <td>7.9250</td>\n",
       "      <td>0</td>\n",
       "      <td>S</td>\n",
       "      <td>0</td>\n",
       "      <td>0</td>\n",
       "      <td>1</td>\n",
       "      <td>0</td>\n",
       "    </tr>\n",
       "    <tr>\n",
       "      <th>3</th>\n",
       "      <td>1</td>\n",
       "      <td>1</td>\n",
       "      <td>Mrs</td>\n",
       "      <td>0</td>\n",
       "      <td>35.0</td>\n",
       "      <td>1</td>\n",
       "      <td>0</td>\n",
       "      <td>113803</td>\n",
       "      <td>53.1000</td>\n",
       "      <td>1</td>\n",
       "      <td>S</td>\n",
       "      <td>0</td>\n",
       "      <td>0</td>\n",
       "      <td>1</td>\n",
       "      <td>1</td>\n",
       "    </tr>\n",
       "    <tr>\n",
       "      <th>4</th>\n",
       "      <td>0</td>\n",
       "      <td>3</td>\n",
       "      <td>Mr</td>\n",
       "      <td>1</td>\n",
       "      <td>35.0</td>\n",
       "      <td>0</td>\n",
       "      <td>0</td>\n",
       "      <td>373450</td>\n",
       "      <td>8.0500</td>\n",
       "      <td>0</td>\n",
       "      <td>S</td>\n",
       "      <td>0</td>\n",
       "      <td>0</td>\n",
       "      <td>1</td>\n",
       "      <td>0</td>\n",
       "    </tr>\n",
       "  </tbody>\n",
       "</table>\n",
       "</div>"
      ],
      "text/plain": [
       "   Survived  Pclass  Name  Sex   Age  SibSp  Parch            Ticket     Fare  \\\n",
       "0         0       3    Mr    1  22.0      1      0         A/5 21171   7.2500   \n",
       "1         1       1   Mrs    0  38.0      1      0          PC 17599  71.2833   \n",
       "2         1       3  Miss    0  26.0      0      0  STON/O2. 3101282   7.9250   \n",
       "3         1       1   Mrs    0  35.0      1      0            113803  53.1000   \n",
       "4         0       3    Mr    1  35.0      0      0            373450   8.0500   \n",
       "\n",
       "   Cabin Embarked  C  Q  S  Family  \n",
       "0      0        S  0  0  1       1  \n",
       "1      1        C  1  0  0       1  \n",
       "2      0        S  0  0  1       0  \n",
       "3      1        S  0  0  1       1  \n",
       "4      0        S  0  0  1       0  "
      ]
     },
     "execution_count": 18,
     "metadata": {},
     "output_type": "execute_result"
    }
   ],
   "source": [
    "train['Cabin'] = train['Cabin'].notnull().astype(int)\n",
    "train.head()\n",
    "# Cabin = 1 means the passenger is assigned to a cabin class"
   ]
  },
  {
   "cell_type": "code",
   "execution_count": 19,
   "id": "rotary-airplane",
   "metadata": {
    "execution": {
     "iopub.execute_input": "2022-09-26T21:43:21.351694Z",
     "iopub.status.busy": "2022-09-26T21:43:21.350997Z",
     "iopub.status.idle": "2022-09-26T21:43:21.465768Z",
     "shell.execute_reply": "2022-09-26T21:43:21.466182Z",
     "shell.execute_reply.started": "2021-06-06T19:50:30.867347Z"
    },
    "papermill": {
     "duration": 0.150874,
     "end_time": "2022-09-26T21:43:21.466326",
     "exception": false,
     "start_time": "2022-09-26T21:43:21.315452",
     "status": "completed"
    },
    "tags": []
   },
   "outputs": [
    {
     "data": {
      "text/plain": [
       "<AxesSubplot:xlabel='Survived', ylabel='count'>"
      ]
     },
     "execution_count": 19,
     "metadata": {},
     "output_type": "execute_result"
    },
    {
     "data": {
      "image/png": "[encoded data removed]",
      "text/plain": [
       "<Figure size 432x288 with 1 Axes>"
      ]
     },
     "metadata": {
      "needs_background": "light"
     },
     "output_type": "display_data"
    }
   ],
   "source": [
    "sns.countplot(x='Survived',hue='Cabin',data = train)\n",
    "# passengers assigned to a cabin class are more likely to survive"
   ]
  },
  {
   "cell_type": "markdown",
   "id": "geographic-factor",
   "metadata": {
    "papermill": {
     "duration": 0.033467,
     "end_time": "2022-09-26T21:43:21.533974",
     "exception": false,
     "start_time": "2022-09-26T21:43:21.500507",
     "status": "completed"
    },
    "tags": []
   },
   "source": [
    "# Machine Learning Setup"
   ]
  },
  {
   "cell_type": "code",
   "execution_count": 20,
   "id": "electrical-austin",
   "metadata": {
    "execution": {
     "iopub.execute_input": "2022-09-26T21:43:21.604975Z",
     "iopub.status.busy": "2022-09-26T21:43:21.604269Z",
     "iopub.status.idle": "2022-09-26T21:43:21.621532Z",
     "shell.execute_reply": "2022-09-26T21:43:21.622001Z",
     "shell.execute_reply.started": "2021-06-06T19:50:31.002957Z"
    },
    "papermill": {
     "duration": 0.054587,
     "end_time": "2022-09-26T21:43:21.622182",
     "exception": false,
     "start_time": "2022-09-26T21:43:21.567595",
     "status": "completed"
    },
    "tags": []
   },
   "outputs": [
    {
     "name": "stdout",
     "output_type": "stream",
     "text": [
      "<class 'pandas.core.frame.DataFrame'>\n",
      "RangeIndex: 891 entries, 0 to 890\n",
      "Data columns (total 9 columns):\n",
      " #   Column  Non-Null Count  Dtype  \n",
      "---  ------  --------------  -----  \n",
      " 0   Pclass  891 non-null    int64  \n",
      " 1   Sex     891 non-null    int64  \n",
      " 2   SibSp   891 non-null    int64  \n",
      " 3   Parch   891 non-null    int64  \n",
      " 4   Fare    891 non-null    float64\n",
      " 5   Cabin   891 non-null    int64  \n",
      " 6   C       891 non-null    uint8  \n",
      " 7   Q       891 non-null    uint8  \n",
      " 8   S       891 non-null    uint8  \n",
      "dtypes: float64(1), int64(5), uint8(3)\n",
      "memory usage: 44.5 KB\n"
     ]
    }
   ],
   "source": [
    "y = train['Survived']\n",
    "train = train.select_dtypes(exclude=['object'])\n",
    "train = train.drop(['Family','Survived','Age'],1)\n",
    "train.head()\n",
    "train.info()"
   ]
  },
  {
   "cell_type": "code",
   "execution_count": 21,
   "id": "surface-pledge",
   "metadata": {
    "execution": {
     "iopub.execute_input": "2022-09-26T21:43:21.693417Z",
     "iopub.status.busy": "2022-09-26T21:43:21.692913Z",
     "iopub.status.idle": "2022-09-26T21:43:21.698226Z",
     "shell.execute_reply": "2022-09-26T21:43:21.698729Z",
     "shell.execute_reply.started": "2021-06-06T19:50:31.024640Z"
    },
    "papermill": {
     "duration": 0.042521,
     "end_time": "2022-09-26T21:43:21.698876",
     "exception": false,
     "start_time": "2022-09-26T21:43:21.656355",
     "status": "completed"
    },
    "tags": []
   },
   "outputs": [
    {
     "data": {
      "text/plain": [
       "array([[3., 1., 1., ..., 0., 0., 1.],\n",
       "       [1., 0., 1., ..., 1., 0., 0.],\n",
       "       [3., 0., 0., ..., 0., 0., 1.],\n",
       "       ...,\n",
       "       [3., 0., 1., ..., 0., 0., 1.],\n",
       "       [1., 1., 0., ..., 1., 0., 0.],\n",
       "       [3., 1., 0., ..., 0., 1., 0.]])"
      ]
     },
     "execution_count": 21,
     "metadata": {},
     "output_type": "execute_result"
    }
   ],
   "source": [
    "train = train.to_numpy()\n",
    "train"
   ]
  },
  {
   "cell_type": "code",
   "execution_count": 22,
   "id": "automotive-writer",
   "metadata": {
    "execution": {
     "iopub.execute_input": "2022-09-26T21:43:21.774015Z",
     "iopub.status.busy": "2022-09-26T21:43:21.773501Z",
     "iopub.status.idle": "2022-09-26T21:43:21.782189Z",
     "shell.execute_reply": "2022-09-26T21:43:21.781755Z",
     "shell.execute_reply.started": "2021-06-06T19:50:31.036301Z"
    },
    "papermill": {
     "duration": 0.046685,
     "end_time": "2022-09-26T21:43:21.782302",
     "exception": false,
     "start_time": "2022-09-26T21:43:21.735617",
     "status": "completed"
    },
    "tags": []
   },
   "outputs": [
    {
     "data": {
      "text/plain": [
       "array([0, 1, 1, 1, 0, 0, 0, 0, 1, 1, 1, 1, 0, 0, 0, 1, 0, 1, 0, 1, 0, 1,\n",
       "       1, 1, 0, 1, 0, 0, 1, 0, 0, 1, 1, 0, 0, 0, 1, 0, 0, 1, 0, 0, 0, 1,\n",
       "       1, 0, 0, 1, 0, 0, 0, 0, 1, 1, 0, 1, 1, 0, 1, 0, 0, 1, 0, 0, 0, 1,\n",
       "       1, 0, 1, 0, 0, 0, 0, 0, 1, 0, 0, 0, 1, 1, 0, 1, 1, 0, 1, 1, 0, 0,\n",
       "       1, 0, 0, 0, 0, 0, 0, 0, 0, 1, 1, 0, 0, 0, 0, 0, 0, 0, 1, 1, 0, 1,\n",
       "       0, 0, 0, 0, 0, 0, 0, 0, 0, 0, 0, 0, 0, 1, 0, 1, 0, 1, 1, 0, 0, 0,\n",
       "       0, 1, 0, 0, 1, 0, 0, 0, 0, 1, 1, 0, 0, 0, 1, 0, 0, 0, 0, 1, 0, 0,\n",
       "       0, 0, 1, 0, 0, 0, 0, 1, 0, 0, 0, 1, 1, 0, 0, 0, 0, 0, 1, 0, 0, 0,\n",
       "       0, 0, 0, 0, 0, 0, 0, 1, 1, 0, 1, 1, 0, 0, 1, 0, 1, 1, 1, 1, 0, 0,\n",
       "       1, 0, 0, 0, 0, 0, 1, 0, 0, 1, 1, 1, 0, 1, 0, 0, 0, 1, 1, 0, 1, 0,\n",
       "       1, 0, 0, 0, 1, 0, 1, 0, 0, 0, 1, 0, 0, 1, 0, 0, 0, 1, 0, 0, 0, 1,\n",
       "       0, 0, 0, 0, 0, 1, 1, 0, 0, 0, 0, 0, 0, 1, 1, 1, 1, 1, 0, 1, 0, 0,\n",
       "       0, 0, 0, 1, 1, 1, 0, 1, 1, 0, 1, 1, 0, 0, 0, 1, 0, 0, 0, 1, 0, 0,\n",
       "       1, 0, 1, 1, 1, 1, 0, 0, 0, 0, 0, 0, 1, 1, 1, 1, 0, 1, 0, 1, 1, 1,\n",
       "       0, 1, 1, 1, 0, 0, 0, 1, 1, 0, 1, 1, 0, 0, 1, 1, 0, 1, 0, 1, 1, 1,\n",
       "       1, 0, 0, 0, 1, 0, 0, 1, 1, 0, 1, 1, 0, 0, 0, 1, 1, 1, 1, 0, 0, 0,\n",
       "       0, 0, 0, 0, 1, 0, 1, 1, 0, 0, 0, 0, 0, 0, 1, 1, 1, 1, 1, 0, 0, 0,\n",
       "       0, 1, 1, 0, 0, 0, 1, 1, 0, 1, 0, 0, 0, 1, 0, 1, 1, 1, 0, 1, 1, 0,\n",
       "       0, 0, 0, 1, 1, 0, 0, 0, 0, 0, 0, 1, 0, 0, 0, 0, 1, 0, 1, 0, 1, 1,\n",
       "       0, 0, 0, 0, 0, 0, 0, 0, 1, 1, 0, 1, 1, 1, 1, 0, 0, 1, 0, 1, 0, 0,\n",
       "       1, 0, 0, 1, 1, 1, 1, 1, 1, 1, 0, 0, 0, 1, 0, 1, 0, 1, 1, 0, 1, 0,\n",
       "       0, 0, 0, 0, 0, 0, 0, 1, 0, 0, 1, 1, 0, 0, 0, 0, 0, 1, 0, 0, 0, 1,\n",
       "       1, 0, 1, 0, 0, 1, 0, 0, 0, 0, 0, 0, 1, 0, 0, 0, 0, 0, 0, 0, 1, 0,\n",
       "       1, 1, 0, 1, 1, 0, 1, 1, 0, 0, 1, 0, 1, 0, 1, 0, 0, 1, 0, 0, 1, 0,\n",
       "       0, 0, 1, 0, 0, 1, 0, 1, 0, 1, 0, 1, 1, 0, 0, 1, 0, 0, 1, 1, 0, 1,\n",
       "       1, 0, 0, 1, 1, 0, 1, 0, 1, 1, 0, 0, 0, 0, 0, 0, 0, 0, 0, 1, 1, 1,\n",
       "       1, 1, 0, 0, 1, 1, 0, 1, 1, 1, 0, 0, 0, 1, 0, 1, 0, 0, 0, 1, 0, 0,\n",
       "       0, 0, 1, 0, 0, 1, 1, 0, 0, 0, 1, 0, 0, 1, 1, 1, 0, 0, 1, 0, 0, 1,\n",
       "       0, 0, 1, 0, 0, 1, 1, 0, 0, 0, 0, 1, 0, 0, 1, 0, 1, 0, 0, 1, 0, 0,\n",
       "       0, 0, 0, 1, 0, 1, 1, 1, 0, 1, 0, 1, 0, 1, 0, 1, 0, 0, 0, 0, 0, 0,\n",
       "       1, 0, 0, 0, 1, 0, 0, 0, 0, 1, 1, 0, 0, 1, 0, 0, 0, 1, 0, 1, 0, 1,\n",
       "       0, 0, 0, 0, 0, 0, 0, 1, 1, 1, 1, 0, 0, 0, 0, 1, 0, 0, 1, 1, 0, 0,\n",
       "       0, 0, 1, 1, 1, 1, 1, 0, 1, 0, 0, 0, 1, 1, 0, 0, 1, 0, 0, 0, 1, 0,\n",
       "       1, 1, 0, 0, 1, 0, 0, 0, 0, 0, 0, 1, 0, 0, 1, 0, 1, 0, 1, 0, 0, 1,\n",
       "       0, 0, 1, 1, 0, 0, 1, 1, 0, 0, 0, 1, 0, 0, 1, 1, 0, 1, 0, 0, 0, 0,\n",
       "       0, 0, 0, 0, 1, 0, 0, 1, 0, 1, 1, 1, 0, 0, 0, 0, 1, 0, 1, 0, 0, 0,\n",
       "       0, 0, 0, 0, 1, 1, 0, 0, 0, 1, 1, 1, 1, 0, 0, 0, 0, 1, 0, 0, 0, 0,\n",
       "       0, 0, 0, 0, 0, 0, 1, 1, 0, 1, 0, 0, 0, 1, 1, 1, 1, 1, 0, 0, 0, 1,\n",
       "       0, 0, 1, 1, 0, 0, 1, 0, 0, 0, 0, 0, 0, 1, 0, 0, 0, 1, 0, 1, 1, 1,\n",
       "       1, 0, 0, 0, 1, 0, 0, 1, 1, 0, 0, 1, 0, 1, 0, 0, 1, 1, 0, 0, 0, 1,\n",
       "       1, 0, 0, 0, 0, 0, 0, 1, 0, 1, 0])"
      ]
     },
     "execution_count": 22,
     "metadata": {},
     "output_type": "execute_result"
    }
   ],
   "source": [
    "y = y.to_numpy()\n",
    "y"
   ]
  },
  {
   "cell_type": "code",
   "execution_count": 23,
   "id": "material-artist",
   "metadata": {
    "execution": {
     "iopub.execute_input": "2022-09-26T21:43:21.861639Z",
     "iopub.status.busy": "2022-09-26T21:43:21.861093Z",
     "iopub.status.idle": "2022-09-26T21:43:22.816487Z",
     "shell.execute_reply": "2022-09-26T21:43:22.815923Z",
     "shell.execute_reply.started": "2021-06-06T19:50:31.048102Z"
    },
    "papermill": {
     "duration": 0.998128,
     "end_time": "2022-09-26T21:43:22.816635",
     "exception": false,
     "start_time": "2022-09-26T21:43:21.818507",
     "status": "completed"
    },
    "tags": []
   },
   "outputs": [
    {
     "name": "stdout",
     "output_type": "stream",
     "text": [
      "0.15730337078651685 4 3\n"
     ]
    }
   ],
   "source": [
    "from sklearn.neighbors import KNeighborsClassifier\n",
    "\n",
    "n = len(train)\n",
    "k = 10 # k-fold cross-validation approach\n",
    "min_error = np.inf\n",
    "min_kk = -1\n",
    "min_nn = -1\n",
    "\n",
    "for kk in range(k):\n",
    "    X_validate = train[(int)(n/k*kk):(int)(n/k*(kk+1))] # validation set\n",
    "    X_train = np.concatenate((train[0:(int)(n/k*kk)], train[(int)(n/k*(kk+1)):n]), axis=0)\n",
    "    y_validate = y[(int)(n/k*kk):(int)(n/k*(kk+1))]\n",
    "    y_train = np.concatenate((y[0:(int)(n/k*kk)], y[(int)(n/k*(kk+1)):n]), axis=0)\n",
    "\n",
    "    for nn in range(1, 15): # try different depths\n",
    "        model = KNeighborsClassifier(n_neighbors=nn)\n",
    "        model.fit(X_train,y_train)\n",
    "        y_pred = model.predict(X_validate)\n",
    "        error = np.sum(y_pred != y_validate)/len(y_validate)\n",
    "        if (error < min_error):\n",
    "            min_error = error\n",
    "            min_kk = kk\n",
    "            min_nn = nn\n",
    "    \n",
    "print(min_error, min_kk, min_nn)"
   ]
  },
  {
   "cell_type": "code",
   "execution_count": 24,
   "id": "polyphonic-windows",
   "metadata": {
    "execution": {
     "iopub.execute_input": "2022-09-26T21:43:22.900357Z",
     "iopub.status.busy": "2022-09-26T21:43:22.899530Z",
     "iopub.status.idle": "2022-09-26T21:43:22.907278Z",
     "shell.execute_reply": "2022-09-26T21:43:22.906723Z",
     "shell.execute_reply.started": "2021-06-06T19:50:31.793776Z"
    },
    "papermill": {
     "duration": 0.053773,
     "end_time": "2022-09-26T21:43:22.907392",
     "exception": false,
     "start_time": "2022-09-26T21:43:22.853619",
     "status": "completed"
    },
    "tags": []
   },
   "outputs": [
    {
     "data": {
      "text/plain": [
       "KNeighborsClassifier(n_neighbors=3)"
      ]
     },
     "execution_count": 24,
     "metadata": {},
     "output_type": "execute_result"
    }
   ],
   "source": [
    "X_validate = train[(int)(n/k*min_kk):(int)(n/k*(min_kk+1))] # validation set\n",
    "X_train = np.concatenate((train[0:(int)(n/k*min_kk)], train[(int)(n/k*(min_kk+1)):n]), axis=0)\n",
    "y_validate = y[(int)(n/k*min_kk):(int)(n/k*(min_kk+1))]\n",
    "y_train = np.concatenate((y[0:(int)(n/k*min_kk)], y[(int)(n/k*(min_kk+1)):n]), axis=0)\n",
    "\n",
    "model = KNeighborsClassifier(n_neighbors=min_nn)\n",
    "model.fit(train,y)"
   ]
  },
  {
   "cell_type": "markdown",
   "id": "eastern-dance",
   "metadata": {
    "papermill": {
     "duration": 0.036005,
     "end_time": "2022-09-26T21:43:22.979732",
     "exception": false,
     "start_time": "2022-09-26T21:43:22.943727",
     "status": "completed"
    },
    "tags": []
   },
   "source": [
    "# Test Set Prediction"
   ]
  },
  {
   "cell_type": "code",
   "execution_count": 25,
   "id": "typical-beatles",
   "metadata": {
    "execution": {
     "iopub.execute_input": "2022-09-26T21:43:23.074812Z",
     "iopub.status.busy": "2022-09-26T21:43:23.058470Z",
     "iopub.status.idle": "2022-09-26T21:43:23.088361Z",
     "shell.execute_reply": "2022-09-26T21:43:23.088782Z",
     "shell.execute_reply.started": "2021-06-06T19:50:31.807417Z"
    },
    "papermill": {
     "duration": 0.072658,
     "end_time": "2022-09-26T21:43:23.088926",
     "exception": false,
     "start_time": "2022-09-26T21:43:23.016268",
     "status": "completed"
    },
    "tags": []
   },
   "outputs": [
    {
     "name": "stdout",
     "output_type": "stream",
     "text": [
      "<class 'pandas.core.frame.DataFrame'>\n",
      "RangeIndex: 418 entries, 0 to 417\n",
      "Data columns (total 1 columns):\n",
      " #   Column       Non-Null Count  Dtype\n",
      "---  ------       --------------  -----\n",
      " 0   PassengerId  418 non-null    int64\n",
      "dtypes: int64(1)\n",
      "memory usage: 3.4 KB\n",
      "<class 'pandas.core.frame.DataFrame'>\n",
      "RangeIndex: 418 entries, 0 to 417\n",
      "Data columns (total 9 columns):\n",
      " #   Column  Non-Null Count  Dtype  \n",
      "---  ------  --------------  -----  \n",
      " 0   Pclass  418 non-null    int64  \n",
      " 1   Sex     418 non-null    int64  \n",
      " 2   SibSp   418 non-null    int64  \n",
      " 3   Parch   418 non-null    int64  \n",
      " 4   Fare    417 non-null    float64\n",
      " 5   Cabin   418 non-null    int64  \n",
      " 6   C       418 non-null    uint8  \n",
      " 7   Q       418 non-null    uint8  \n",
      " 8   S       418 non-null    uint8  \n",
      "dtypes: float64(1), int64(5), uint8(3)\n",
      "memory usage: 20.9 KB\n"
     ]
    }
   ],
   "source": [
    "test = test.replace(replace_list)\n",
    "test = pd.concat((test,pd.get_dummies(test['Embarked'])),axis=1)\n",
    "test['Cabin'] = test['Cabin'].notnull().astype(int)\n",
    "test = test.select_dtypes(exclude=['object'])\n",
    "\n",
    "submission = test['PassengerId']\n",
    "submission = submission.to_frame()\n",
    "submission.info()\n",
    "\n",
    "test = test.drop(['PassengerId', 'Age'],1)\n",
    "test.info()"
   ]
  },
  {
   "cell_type": "code",
   "execution_count": 26,
   "id": "related-liability",
   "metadata": {
    "execution": {
     "iopub.execute_input": "2022-09-26T21:43:23.179140Z",
     "iopub.status.busy": "2022-09-26T21:43:23.178460Z",
     "iopub.status.idle": "2022-09-26T21:43:23.182902Z",
     "shell.execute_reply": "2022-09-26T21:43:23.182402Z",
     "shell.execute_reply.started": "2021-06-06T19:50:31.843035Z"
    },
    "papermill": {
     "duration": 0.055184,
     "end_time": "2022-09-26T21:43:23.183022",
     "exception": false,
     "start_time": "2022-09-26T21:43:23.127838",
     "status": "completed"
    },
    "tags": []
   },
   "outputs": [
    {
     "name": "stdout",
     "output_type": "stream",
     "text": [
      "<class 'pandas.core.frame.DataFrame'>\n",
      "RangeIndex: 418 entries, 0 to 417\n",
      "Data columns (total 9 columns):\n",
      " #   Column  Non-Null Count  Dtype  \n",
      "---  ------  --------------  -----  \n",
      " 0   Pclass  418 non-null    int64  \n",
      " 1   Sex     418 non-null    int64  \n",
      " 2   SibSp   418 non-null    int64  \n",
      " 3   Parch   418 non-null    int64  \n",
      " 4   Fare    418 non-null    float64\n",
      " 5   Cabin   418 non-null    int64  \n",
      " 6   C       418 non-null    uint8  \n",
      " 7   Q       418 non-null    uint8  \n",
      " 8   S       418 non-null    uint8  \n",
      "dtypes: float64(1), int64(5), uint8(3)\n",
      "memory usage: 20.9 KB\n"
     ]
    }
   ],
   "source": [
    "test['Fare'] = test['Fare'].fillna(0) # ensure no NaN values\n",
    "test.info()"
   ]
  },
  {
   "cell_type": "code",
   "execution_count": 27,
   "id": "inclusive-brunswick",
   "metadata": {
    "execution": {
     "iopub.execute_input": "2022-09-26T21:43:23.274398Z",
     "iopub.status.busy": "2022-09-26T21:43:23.273716Z",
     "iopub.status.idle": "2022-09-26T21:43:23.278872Z",
     "shell.execute_reply": "2022-09-26T21:43:23.278227Z",
     "shell.execute_reply.started": "2021-06-06T19:50:31.860647Z"
    },
    "papermill": {
     "duration": 0.055176,
     "end_time": "2022-09-26T21:43:23.279013",
     "exception": false,
     "start_time": "2022-09-26T21:43:23.223837",
     "status": "completed"
    },
    "tags": []
   },
   "outputs": [
    {
     "data": {
      "text/plain": [
       "array([[3., 1., 0., ..., 0., 1., 0.],\n",
       "       [3., 0., 1., ..., 0., 0., 1.],\n",
       "       [2., 1., 0., ..., 0., 1., 0.],\n",
       "       ...,\n",
       "       [3., 1., 0., ..., 0., 0., 1.],\n",
       "       [3., 1., 0., ..., 0., 0., 1.],\n",
       "       [3., 1., 1., ..., 1., 0., 0.]])"
      ]
     },
     "execution_count": 27,
     "metadata": {},
     "output_type": "execute_result"
    }
   ],
   "source": [
    "test = test.to_numpy()\n",
    "test"
   ]
  },
  {
   "cell_type": "code",
   "execution_count": 28,
   "id": "assured-initial",
   "metadata": {
    "execution": {
     "iopub.execute_input": "2022-09-26T21:43:23.377392Z",
     "iopub.status.busy": "2022-09-26T21:43:23.376774Z",
     "iopub.status.idle": "2022-09-26T21:43:23.394368Z",
     "shell.execute_reply": "2022-09-26T21:43:23.394901Z",
     "shell.execute_reply.started": "2021-06-06T19:50:31.872438Z"
    },
    "papermill": {
     "duration": 0.069919,
     "end_time": "2022-09-26T21:43:23.395078",
     "exception": false,
     "start_time": "2022-09-26T21:43:23.325159",
     "status": "completed"
    },
    "tags": []
   },
   "outputs": [],
   "source": [
    "model = KNeighborsClassifier(n_neighbors=min_nn)\n",
    "model.fit(train,y)\n",
    "test_pred = model.predict(test)"
   ]
  },
  {
   "cell_type": "code",
   "execution_count": 29,
   "id": "polyphonic-principal",
   "metadata": {
    "execution": {
     "iopub.execute_input": "2022-09-26T21:43:23.486782Z",
     "iopub.status.busy": "2022-09-26T21:43:23.486139Z",
     "iopub.status.idle": "2022-09-26T21:43:23.496309Z",
     "shell.execute_reply": "2022-09-26T21:43:23.496882Z",
     "shell.execute_reply.started": "2021-06-06T19:50:31.900554Z"
    },
    "papermill": {
     "duration": 0.059028,
     "end_time": "2022-09-26T21:43:23.497053",
     "exception": false,
     "start_time": "2022-09-26T21:43:23.438025",
     "status": "completed"
    },
    "tags": []
   },
   "outputs": [
    {
     "data": {
      "text/html": [
       "<div>\n",
       "<style scoped>\n",
       "    .dataframe tbody tr th:only-of-type {\n",
       "        vertical-align: middle;\n",
       "    }\n",
       "\n",
       "    .dataframe tbody tr th {\n",
       "        vertical-align: top;\n",
       "    }\n",
       "\n",
       "    .dataframe thead th {\n",
       "        text-align: right;\n",
       "    }\n",
       "</style>\n",
       "<table border=\"1\" class=\"dataframe\">\n",
       "  <thead>\n",
       "    <tr style=\"text-align: right;\">\n",
       "      <th></th>\n",
       "      <th>PassengerId</th>\n",
       "      <th>Survived</th>\n",
       "    </tr>\n",
       "  </thead>\n",
       "  <tbody>\n",
       "    <tr>\n",
       "      <th>0</th>\n",
       "      <td>892</td>\n",
       "      <td>0</td>\n",
       "    </tr>\n",
       "    <tr>\n",
       "      <th>1</th>\n",
       "      <td>893</td>\n",
       "      <td>0</td>\n",
       "    </tr>\n",
       "    <tr>\n",
       "      <th>2</th>\n",
       "      <td>894</td>\n",
       "      <td>0</td>\n",
       "    </tr>\n",
       "    <tr>\n",
       "      <th>3</th>\n",
       "      <td>895</td>\n",
       "      <td>0</td>\n",
       "    </tr>\n",
       "    <tr>\n",
       "      <th>4</th>\n",
       "      <td>896</td>\n",
       "      <td>1</td>\n",
       "    </tr>\n",
       "    <tr>\n",
       "      <th>...</th>\n",
       "      <td>...</td>\n",
       "      <td>...</td>\n",
       "    </tr>\n",
       "    <tr>\n",
       "      <th>413</th>\n",
       "      <td>1305</td>\n",
       "      <td>0</td>\n",
       "    </tr>\n",
       "    <tr>\n",
       "      <th>414</th>\n",
       "      <td>1306</td>\n",
       "      <td>1</td>\n",
       "    </tr>\n",
       "    <tr>\n",
       "      <th>415</th>\n",
       "      <td>1307</td>\n",
       "      <td>0</td>\n",
       "    </tr>\n",
       "    <tr>\n",
       "      <th>416</th>\n",
       "      <td>1308</td>\n",
       "      <td>0</td>\n",
       "    </tr>\n",
       "    <tr>\n",
       "      <th>417</th>\n",
       "      <td>1309</td>\n",
       "      <td>1</td>\n",
       "    </tr>\n",
       "  </tbody>\n",
       "</table>\n",
       "<p>418 rows × 2 columns</p>\n",
       "</div>"
      ],
      "text/plain": [
       "     PassengerId  Survived\n",
       "0            892         0\n",
       "1            893         0\n",
       "2            894         0\n",
       "3            895         0\n",
       "4            896         1\n",
       "..           ...       ...\n",
       "413         1305         0\n",
       "414         1306         1\n",
       "415         1307         0\n",
       "416         1308         0\n",
       "417         1309         1\n",
       "\n",
       "[418 rows x 2 columns]"
      ]
     },
     "execution_count": 29,
     "metadata": {},
     "output_type": "execute_result"
    }
   ],
   "source": [
    "submission_y = pd.DataFrame(test_pred, columns = ['Survived'])\n",
    "submission.insert(1, 'Survived',submission_y)\n",
    "submission"
   ]
  },
  {
   "cell_type": "code",
   "execution_count": 30,
   "id": "minute-company",
   "metadata": {
    "execution": {
     "iopub.execute_input": "2022-09-26T21:43:23.578553Z",
     "iopub.status.busy": "2022-09-26T21:43:23.577946Z",
     "iopub.status.idle": "2022-09-26T21:43:23.585617Z",
     "shell.execute_reply": "2022-09-26T21:43:23.586932Z",
     "shell.execute_reply.started": "2021-06-06T19:50:31.914247Z"
    },
    "papermill": {
     "duration": 0.051313,
     "end_time": "2022-09-26T21:43:23.587192",
     "exception": false,
     "start_time": "2022-09-26T21:43:23.535879",
     "status": "completed"
    },
    "tags": []
   },
   "outputs": [],
   "source": [
    "submission.to_csv('submission.csv',index=False)"
   ]
  },
  {
   "cell_type": "code",
   "execution_count": null,
   "id": "three-spyware",
   "metadata": {
    "papermill": {
     "duration": 0.039555,
     "end_time": "2022-09-26T21:43:23.677107",
     "exception": false,
     "start_time": "2022-09-26T21:43:23.637552",
     "status": "completed"
    },
    "tags": []
   },
   "outputs": [],
   "source": []
  }
 ],
 "metadata": {
  "kernelspec": {
   "display_name": "Python 3",
   "language": "python",
   "name": "python3"
  },
  "language_info": {
   "codemirror_mode": {
    "name": "ipython",
    "version": 3
   },
   "file_extension": ".py",
   "mimetype": "text/x-python",
   "name": "python",
   "nbconvert_exporter": "python",
   "pygments_lexer": "ipython3",
   "version": "3.7.10"
  },
  "papermill": {
   "default_parameters": {},
   "duration": 14.493811,
   "end_time": "2022-09-26T21:43:24.523857",
   "environment_variables": {},
   "exception": null,
   "input_path": "__notebook__.ipynb",
   "output_path": "__notebook__.ipynb",
   "parameters": {},
   "start_time": "2022-09-26T21:43:10.030046",
   "version": "2.3.3"
  }
 },
 "nbformat": 4,
 "nbformat_minor": 5
}
